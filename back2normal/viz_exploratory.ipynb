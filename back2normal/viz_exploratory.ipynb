{
 "cells": [
  {
   "cell_type": "markdown",
   "metadata": {},
   "source": [
    "### Messing around with plots\n",
    "This works best for my by running\n",
    "`jupyter notebook viz_exploratory` from command line\n",
    "and ensuring that the same file is NOT open in pycharm."
   ]
  },
  {
   "cell_type": "code",
   "execution_count": 3,
   "metadata": {},
   "outputs": [],
   "source": [
    "import pandas as pd\n",
    "from data import api_requests, dbclient, soda_data,\\\n",
    "    daily_case_data_by_zip_pull, data_transformations"
   ]
  },
  {
   "cell_type": "code",
   "execution_count": 4,
   "metadata": {},
   "outputs": [],
   "source": [
    "daily_vacc_data = soda_data.datasets[\"COVID-19 Vaccinations by ZIP Code\"]\n",
    "\n",
    "api_resp = api_requests.SocrataAPIClient(daily_vacc_data.request_url)  # 2\n",
    "api_resp.convert_dtypes()  # 3\n",
    "data_transformations.\\\n",
    "        compute_moving_avg_from_daily_data(api_resp.data_df,\n",
    "                                           'zip_code',  # should store this\n",
    "                                           'date',  # this too\n",
    "                                           daily_vacc_data.week_avg_attr_list) "
   ]
  },
  {
   "cell_type": "code",
   "execution_count": null,
   "metadata": {},
   "outputs": [],
   "source": []
  }
 ],
 "metadata": {
  "kernelspec": {
   "display_name": "Python 3",
   "language": "python",
   "name": "python3"
  },
  "language_info": {
   "codemirror_mode": {
    "name": "ipython",
    "version": 3
   },
   "file_extension": ".py",
   "mimetype": "text/x-python",
   "name": "python",
   "nbconvert_exporter": "python",
   "pygments_lexer": "ipython3",
   "version": "3.6.12"
  }
 },
 "nbformat": 4,
 "nbformat_minor": 1
}
