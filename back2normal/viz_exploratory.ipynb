{
 "cells": [
  {
   "cell_type": "markdown",
   "metadata": {},
   "source": [
    "### Messing around with plots\n",
    "This works best for my by running\n",
    "`jupyter notebook viz_exploratory` from command line\n",
    "and ensuring that the same file is NOT open in pycharm."
   ]
  },
  {
   "cell_type": "code",
   "execution_count": 3,
   "metadata": {},
   "outputs": [],
   "source": [
    "import pandas as pd\n",
    "import matplotlib.pyplot as plt\n",
    "from matplotlib.dates import DateFormatter, DayLocator\n",
    "from data import api_requests, dbclient, soda_data,\\\n",
    "    daily_case_data_by_zip_pull, data_transformations"
   ]
  },
  {
   "cell_type": "code",
   "execution_count": 10,
   "metadata": {},
   "outputs": [
    {
     "data": {
      "text/html": [
       "<div>\n",
       "<style scoped>\n",
       "    .dataframe tbody tr th:only-of-type {\n",
       "        vertical-align: middle;\n",
       "    }\n",
       "\n",
       "    .dataframe tbody tr th {\n",
       "        vertical-align: top;\n",
       "    }\n",
       "\n",
       "    .dataframe thead th {\n",
       "        text-align: right;\n",
       "    }\n",
       "</style>\n",
       "<table border=\"1\" class=\"dataframe\">\n",
       "  <thead>\n",
       "    <tr style=\"text-align: right;\">\n",
       "      <th></th>\n",
       "      <th>zip_code</th>\n",
       "      <th>date</th>\n",
       "      <th>AVG7DAY_total_doses_daily</th>\n",
       "    </tr>\n",
       "  </thead>\n",
       "  <tbody>\n",
       "    <tr>\n",
       "      <th>0</th>\n",
       "      <td>60637</td>\n",
       "      <td>2020-12-15T00:00:00.000</td>\n",
       "      <td>NaN</td>\n",
       "    </tr>\n",
       "    <tr>\n",
       "      <th>1</th>\n",
       "      <td>60637</td>\n",
       "      <td>2020-12-16T00:00:00.000</td>\n",
       "      <td>NaN</td>\n",
       "    </tr>\n",
       "    <tr>\n",
       "      <th>2</th>\n",
       "      <td>60637</td>\n",
       "      <td>2020-12-17T00:00:00.000</td>\n",
       "      <td>NaN</td>\n",
       "    </tr>\n",
       "    <tr>\n",
       "      <th>3</th>\n",
       "      <td>60637</td>\n",
       "      <td>2020-12-18T00:00:00.000</td>\n",
       "      <td>NaN</td>\n",
       "    </tr>\n",
       "    <tr>\n",
       "      <th>4</th>\n",
       "      <td>60637</td>\n",
       "      <td>2020-12-19T00:00:00.000</td>\n",
       "      <td>NaN</td>\n",
       "    </tr>\n",
       "  </tbody>\n",
       "</table>\n",
       "</div>"
      ],
      "text/plain": [
       "  zip_code                     date  AVG7DAY_total_doses_daily\n",
       "0    60637  2020-12-15T00:00:00.000                        NaN\n",
       "1    60637  2020-12-16T00:00:00.000                        NaN\n",
       "2    60637  2020-12-17T00:00:00.000                        NaN\n",
       "3    60637  2020-12-18T00:00:00.000                        NaN\n",
       "4    60637  2020-12-19T00:00:00.000                        NaN"
      ]
     },
     "execution_count": 10,
     "metadata": {},
     "output_type": "execute_result"
    }
   ],
   "source": [
    "# assume vaccine data is in database\n",
    "db = dbclient.DBClient()\n",
    "zipcode_to_test = '60637'\n",
    "query = f\"select zip_code, date, AVG7DAY_total_doses_daily from VACCINATIONS_DAILY where zip_code = '{zipcode_to_test}'\"\n",
    "zipcode_vax_weekly = pd.read_sql_query(query, db.conn)\n",
    "zipcode_vax_weekly.head()"
   ]
  },
  {
   "cell_type": "code",
   "execution_count": 6,
   "metadata": {},
   "outputs": [
    {
     "data": {
      "text/html": [
       "<div>\n",
       "<style scoped>\n",
       "    .dataframe tbody tr th:only-of-type {\n",
       "        vertical-align: middle;\n",
       "    }\n",
       "\n",
       "    .dataframe tbody tr th {\n",
       "        vertical-align: top;\n",
       "    }\n",
       "\n",
       "    .dataframe thead th {\n",
       "        text-align: right;\n",
       "    }\n",
       "</style>\n",
       "<table border=\"1\" class=\"dataframe\">\n",
       "  <thead>\n",
       "    <tr style=\"text-align: right;\">\n",
       "      <th></th>\n",
       "      <th>zip_code</th>\n",
       "      <th>date</th>\n",
       "      <th>total_doses_daily</th>\n",
       "      <th>total_doses_cumulative</th>\n",
       "      <th>vaccine_series_completed_daily</th>\n",
       "      <th>vaccine_series_completed_percent_population</th>\n",
       "      <th>population</th>\n",
       "      <th>AVG7DAY_total_doses_daily</th>\n",
       "      <th>AVG7DAY_vaccine_series_completed_daily</th>\n",
       "    </tr>\n",
       "  </thead>\n",
       "  <tbody>\n",
       "    <tr>\n",
       "      <th>2369</th>\n",
       "      <td>60652</td>\n",
       "      <td>2020-12-15T00:00:00.000</td>\n",
       "      <td>1</td>\n",
       "      <td>1</td>\n",
       "      <td>0</td>\n",
       "      <td>0.0</td>\n",
       "      <td>43447</td>\n",
       "      <td>NaN</td>\n",
       "      <td>NaN</td>\n",
       "    </tr>\n",
       "    <tr>\n",
       "      <th>3187</th>\n",
       "      <td>60624</td>\n",
       "      <td>2020-12-15T00:00:00.000</td>\n",
       "      <td>0</td>\n",
       "      <td>0</td>\n",
       "      <td>0</td>\n",
       "      <td>0.0</td>\n",
       "      <td>34892</td>\n",
       "      <td>NaN</td>\n",
       "      <td>NaN</td>\n",
       "    </tr>\n",
       "    <tr>\n",
       "      <th>3345</th>\n",
       "      <td>60646</td>\n",
       "      <td>2020-12-15T00:00:00.000</td>\n",
       "      <td>0</td>\n",
       "      <td>0</td>\n",
       "      <td>0</td>\n",
       "      <td>0.0</td>\n",
       "      <td>28569</td>\n",
       "      <td>NaN</td>\n",
       "      <td>NaN</td>\n",
       "    </tr>\n",
       "    <tr>\n",
       "      <th>3434</th>\n",
       "      <td>60660</td>\n",
       "      <td>2020-12-15T00:00:00.000</td>\n",
       "      <td>0</td>\n",
       "      <td>0</td>\n",
       "      <td>0</td>\n",
       "      <td>0.0</td>\n",
       "      <td>44498</td>\n",
       "      <td>NaN</td>\n",
       "      <td>NaN</td>\n",
       "    </tr>\n",
       "    <tr>\n",
       "      <th>3442</th>\n",
       "      <td>60616</td>\n",
       "      <td>2020-12-15T00:00:00.000</td>\n",
       "      <td>0</td>\n",
       "      <td>0</td>\n",
       "      <td>0</td>\n",
       "      <td>0.0</td>\n",
       "      <td>54197</td>\n",
       "      <td>NaN</td>\n",
       "      <td>NaN</td>\n",
       "    </tr>\n",
       "  </tbody>\n",
       "</table>\n",
       "</div>"
      ],
      "text/plain": [
       "     zip_code                     date  total_doses_daily  \\\n",
       "2369    60652  2020-12-15T00:00:00.000                  1   \n",
       "3187    60624  2020-12-15T00:00:00.000                  0   \n",
       "3345    60646  2020-12-15T00:00:00.000                  0   \n",
       "3434    60660  2020-12-15T00:00:00.000                  0   \n",
       "3442    60616  2020-12-15T00:00:00.000                  0   \n",
       "\n",
       "      total_doses_cumulative  vaccine_series_completed_daily  \\\n",
       "2369                       1                               0   \n",
       "3187                       0                               0   \n",
       "3345                       0                               0   \n",
       "3434                       0                               0   \n",
       "3442                       0                               0   \n",
       "\n",
       "      vaccine_series_completed_percent_population  population  \\\n",
       "2369                                          0.0       43447   \n",
       "3187                                          0.0       34892   \n",
       "3345                                          0.0       28569   \n",
       "3434                                          0.0       44498   \n",
       "3442                                          0.0       54197   \n",
       "\n",
       "      AVG7DAY_total_doses_daily  AVG7DAY_vaccine_series_completed_daily  \n",
       "2369                        NaN                                     NaN  \n",
       "3187                        NaN                                     NaN  \n",
       "3345                        NaN                                     NaN  \n",
       "3434                        NaN                                     NaN  \n",
       "3442                        NaN                                     NaN  "
      ]
     },
     "execution_count": 6,
     "metadata": {},
     "output_type": "execute_result"
    }
   ],
   "source": [
    "# all vaccine data (get from api)\n",
    "\n",
    "# daily_vacc_data = soda_data.datasets[\"COVID-19 Vaccinations by ZIP Code\"]\n",
    "\n",
    "# api_resp = api_requests.SocrataAPIClient(daily_vacc_data.request_url)  # 2\n",
    "# api_resp.convert_dtypes()  # 3\n",
    "# data_transformations.\\\n",
    "#         compute_moving_avg_from_daily_data(api_resp.data_df,\n",
    "#                                            'zip_code',  # should store this\n",
    "#                                            'date',  # this too\n",
    "#                                            daily_vacc_data.week_avg_attr_list) \n",
    "# vacc_df = api_resp.data_df\n",
    "# vacc_df.head()"
   ]
  },
  {
   "cell_type": "markdown",
   "metadata": {},
   "source": [
    "### matplotlib"
   ]
  },
  {
   "cell_type": "code",
   "execution_count": 13,
   "metadata": {},
   "outputs": [
    {
     "data": {
      "image/png": "[encoded data removed]",
      "text/plain": [
       "<Figure size 720x432 with 1 Axes>"
      ]
     },
     "metadata": {
      "needs_background": "light"
     },
     "output_type": "display_data"
    }
   ],
   "source": [
    "%matplotlib inline\n",
    "\n",
    "title_str = f\"Vaccination Doses for {zipcode_to_test}\"\n",
    "plt.rc('font', size=12)\n",
    "fig, ax = plt.subplots(figsize=(10, 6))\n",
    "\n",
    "# Specify how our lines should look\n",
    "ax.plot(zipcode_vax_weekly.date, zipcode_vax_weekly.AVG7DAY_total_doses_daily, color='orange', linestyle='solid', label='7 Day Avg')\n",
    "\n",
    "# Same as above\n",
    "ax.set_xlabel('Date')\n",
    "ax.set_ylabel('Daily Doses')\n",
    "ax.set_title(title_str)\n",
    "ax.grid(True)\n",
    "ax.legend(loc='upper left');\n",
    "ax.xaxis.set_major_locator(DayLocator())\n",
    "ax.xaxis.set_major_formatter(DateFormatter('%m/%d'))\n",
    "fig.autofmt_xdate()"
   ]
  },
  {
   "cell_type": "code",
   "execution_count": null,
   "metadata": {},
   "outputs": [],
   "source": []
  }
 ],
 "metadata": {
  "kernelspec": {
   "display_name": "Python 3",
   "language": "python",
   "name": "python3"
  },
  "language_info": {
   "codemirror_mode": {
    "name": "ipython",
    "version": 3
   },
   "file_extension": ".py",
   "mimetype": "text/x-python",
   "name": "python",
   "nbconvert_exporter": "python",
   "pygments_lexer": "ipython3",
   "version": "3.6.13"
  }
 },
 "nbformat": 4,
 "nbformat_minor": 1
}
